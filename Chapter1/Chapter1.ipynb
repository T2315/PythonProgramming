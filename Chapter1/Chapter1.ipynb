{
  "nbformat": 4,
  "nbformat_minor": 0,
  "metadata": {
    "colab": {
      "provenance": []
    },
    "kernelspec": {
      "name": "python3",
      "display_name": "Python 3"
    },
    "language_info": {
      "name": "python"
    }
  },
  "cells": [
    {
      "cell_type": "markdown",
      "source": [
        "Task 1. Implement a function to input a, b, and c; then check whether these values are\n",
        "a triangle. If yes, what is the type of the triangle?\n",
        "* Isosceles Triangle: Two sides are equal\n",
        "* Equilateral Triangle: Three sides are identical\n",
        "* Scalene Triangle: All three sides are different"
      ],
      "metadata": {
        "id": "W6_V0IL6AyKV"
      }
    },
    {
      "cell_type": "code",
      "execution_count": 4,
      "metadata": {
        "colab": {
          "base_uri": "https://localhost:8080/"
        },
        "id": "eCu9C_Vc-p7v",
        "outputId": "cc754e70-ca82-4848-85ab-497129e6e051"
      },
      "outputs": [
        {
          "output_type": "stream",
          "name": "stdout",
          "text": [
            "Enter a: 1\n",
            "Enter b: 2\n",
            "Enter c: 3\n",
            "Not three edge of triangle\n"
          ]
        }
      ],
      "source": [
        "def type_triangle():\n",
        "  a = int(input('Enter a: '))\n",
        "  b = int(input('Enter b: '))\n",
        "  c = int(input('Enter c: '))\n",
        "\n",
        "  if (a+b > c) and (a+c > b) and (b+c > a):\n",
        "    if a == b and b == c and c == a:\n",
        "      print('Is Equilateral Triangle')\n",
        "    elif a == b or b == c or c == a:\n",
        "      print('Is Isosceles Triangle')\n",
        "    else:\n",
        "      print('Is Scalene Triangle')\n",
        "  else:\n",
        "    print('Not three edge of triangle')\n",
        "\n",
        "type_triangle()"
      ]
    },
    {
      "cell_type": "markdown",
      "source": [
        "Task 2. Implement a program to check a given point (x1, y1) belongs to the rectangle\n",
        "(x, y, w, and h). Notice that, (x, y) represents the location of the upper left corner, and\n",
        "w, h are the width and the height of a given rectangle."
      ],
      "metadata": {
        "id": "tOI41MMfEBS_"
      }
    },
    {
      "cell_type": "code",
      "source": [
        "def chech_point_in_rectagle(x1, y1, x, y, w, h):\n",
        "  if (x1 >= x and x1 <= x + w) and (y1 >= x and y1 <= y + h):\n",
        "    print('Point belong to the rectangle')\n",
        "  else:\n",
        "    print('Point not belong to the rectangle')\n",
        "\n",
        "chech_point_in_rectagle(x1=2, y1=3, x=0, y=0, w=4, h=4)\n"
      ],
      "metadata": {
        "colab": {
          "base_uri": "https://localhost:8080/"
        },
        "id": "mc1BI2jvD-iN",
        "outputId": "7e7c34e9-8e27-484c-d74a-c41aa95e2a36"
      },
      "execution_count": 6,
      "outputs": [
        {
          "output_type": "stream",
          "name": "stdout",
          "text": [
            "Point belong to the rectangle\n"
          ]
        }
      ]
    },
    {
      "cell_type": "markdown",
      "source": [
        "Task 3. Implement a function to find the maximal integer number (m) for a given n\n",
        "such that:\n",
        "1 + 2 + ... + m < n."
      ],
      "metadata": {
        "id": "68r8f-fWGPEW"
      }
    },
    {
      "cell_type": "code",
      "source": [
        "def findMaxNumber(n):\n",
        "  sum = 0\n",
        "  count = 0\n",
        "\n",
        "  if n < 2:\n",
        "    print('Not found!')\n",
        "    return\n",
        "\n",
        "  while sum < n:\n",
        "    count += 1\n",
        "    sum += count\n",
        "\n",
        "  return count-1\n",
        "\n",
        "print('Maximal integer number found:', findMaxNumber(11))"
      ],
      "metadata": {
        "colab": {
          "base_uri": "https://localhost:8080/"
        },
        "id": "BRmb6Z6_GekW",
        "outputId": "a04e6bb4-9432-4d45-8093-4aee800bf7c0"
      },
      "execution_count": 7,
      "outputs": [
        {
          "output_type": "stream",
          "name": "stdout",
          "text": [
            "Maximal integer number found: 4\n"
          ]
        }
      ]
    },
    {
      "cell_type": "markdown",
      "source": [
        "Task 4. Implement a function to find the n^th Fibonacci value (Fibonacci: 0, 1, 1, 2, 3,5, 8, 13, 21, 34, 55, 89, ...)\n",
        "\n",
        "F(n) = F(n-1) + F(n-2),\n",
        "\n",
        "where F(0) = 0 and F(1) = 1\n",
        "\n",
        "F0 F1 F2 F3 F4 F5 F6 F7 F8 F9 F10 F11 F12 F13 ...\n",
        "\n",
        "0 1 1 2 3 5 8 13 21 34 55 89 144 233 ...\n",
        "* function: find_fibonacci\n",
        "* parameter: n.\n",
        "* Output: n^th Fibonacci value."
      ],
      "metadata": {
        "id": "GDO0zPJ3INve"
      }
    },
    {
      "cell_type": "code",
      "source": [
        "def find_fibonacci(n):\n",
        "  if n == 0 or n == 1:\n",
        "    return n\n",
        "  else:\n",
        "    return find_fibonacci(n-1) + find_fibonacci(n-2)\n",
        "\n",
        "print('Number fibonacci found is: ', find_fibonacci(13))"
      ],
      "metadata": {
        "colab": {
          "base_uri": "https://localhost:8080/"
        },
        "id": "KLkjdWFIIaAO",
        "outputId": "dbc01006-d487-44ab-eea4-c3b19449d998"
      },
      "execution_count": 35,
      "outputs": [
        {
          "output_type": "stream",
          "name": "stdout",
          "text": [
            "Number fibonacci found is:  233\n"
          ]
        }
      ]
    },
    {
      "cell_type": "markdown",
      "source": [
        "5. Implement a function called taxi_fare that computes the fare of a taxi ride\n",
        "based on two inputs: the distance in kilometers (d) and the amount of waiting time in\n",
        "minutes (t). The fare is calculated like this:\n",
        "* the first km is 10,000 VND\n",
        "* every additional km is 5,000 VND\n",
        "* over 10km, each additional km is 2,000 VND\n",
        "* and every minute of waiting is 1,000 VND."
      ],
      "metadata": {
        "id": "BzMLczB1JkCe"
      }
    },
    {
      "cell_type": "code",
      "source": [
        "def taxi_fare(d, t):\n",
        "  total = 10000 + 1000*t\n",
        "  if(d <= 1):\n",
        "    return total\n",
        "  elif d < 10:\n",
        "    total += (d-1)*5000\n",
        "  elif d > 10:\n",
        "    total += 9*5000 + (d-10)*2000\n",
        "  return total\n",
        "\n",
        "print(f'Fare of a taxi ride is: {taxi_fare(3, 1)} VND')"
      ],
      "metadata": {
        "colab": {
          "base_uri": "https://localhost:8080/"
        },
        "id": "yQDeaIINJpt9",
        "outputId": "bde7c16a-5df0-49df-a9d8-3a4d3d1d91b6"
      },
      "execution_count": 36,
      "outputs": [
        {
          "output_type": "stream",
          "name": "stdout",
          "text": [
            "Fare of a taxi ride is: 21000 VND\n"
          ]
        }
      ]
    },
    {
      "cell_type": "markdown",
      "source": [
        "Task 6. Implement functions to evaluate values of the following Algebra problems:\n",
        "1. S(n)=1-2+3-4+...+ ((-1)^(n+1) ).n , n>0\n",
        "2. S(n)=1+1.2+1.2.3+...+1.2.3...n, n>0\n",
        "3. S(n)=12+22+32+....+n2, n>0\n",
        "4. S(n)=1+1/2+1/(2.4)+1/(2.4.6)+...+1/(2.4.6...2n), n>=0"
      ],
      "metadata": {
        "id": "NsZ9p78nMc0W"
      }
    },
    {
      "cell_type": "code",
      "source": [
        "# 1\n",
        "def algebra1(n):\n",
        "  if n == 1:\n",
        "    return 1\n",
        "  else:\n",
        "    return n*((-1)**(n+1)) + algebra1(n-1)\n",
        "\n",
        "print(\"#1: S =\", algebra1(5))\n",
        "\n",
        "# 2\n",
        "def algebra2(n):\n",
        "  if n == 1:\n",
        "    return 1\n",
        "  else:\n",
        "    s = 1\n",
        "    for i in range(1, n+1):\n",
        "      s *= i\n",
        "    return algebra2(n-1) + s\n",
        "\n",
        "print('#2: S =', algebra2(2))\n",
        "\n",
        "# 3\n",
        "def algebra3(n):\n",
        "  if n == 1:\n",
        "    return 12\n",
        "  else:\n",
        "    return 10*n + 2 + algebra3(n-1)\n",
        "\n",
        "print('#3: S =',algebra3(2))\n",
        "\n",
        "# 4\n",
        "def algebra4(n):\n",
        "  if n == 1:\n",
        "    return 1\n",
        "  else:\n",
        "    s = 1\n",
        "    for i in range(1, n):\n",
        "      s *= i*2\n",
        "    return 1/s + algebra4(n-1)\n",
        "\n",
        "print('#4: S =', algebra4(2))\n"
      ],
      "metadata": {
        "colab": {
          "base_uri": "https://localhost:8080/"
        },
        "id": "hcznZf-WMgO9",
        "outputId": "5fea7295-d9ba-4659-9bee-f6a5576ecb50"
      },
      "execution_count": 1,
      "outputs": [
        {
          "output_type": "stream",
          "name": "stdout",
          "text": [
            "#1: S = 3\n",
            "#2: S = 3\n",
            "#3: S = 34\n",
            "#4: S = 1.5\n"
          ]
        }
      ]
    },
    {
      "cell_type": "markdown",
      "source": [
        "Task 7. Implement a function called draw_pyramid(n) - This function takes\n",
        "as an input one integer value n and then outputs on the\n",
        "console a pyramid as in the figure below for example for\n",
        "n=4:\n",
        "\n",
        "// X\n",
        "\n",
        "// XXX\n",
        "\n",
        "// XXXXX\n",
        "\n",
        "// XXXXXXX"
      ],
      "metadata": {
        "id": "foVpFjtuR_5w"
      }
    },
    {
      "cell_type": "code",
      "source": [
        "def draw_pyramid(n):\n",
        "  if n == 1:\n",
        "    print('X')\n",
        "  else:\n",
        "    for i in range(n):\n",
        "      space = ' ' * (n - i - 1)\n",
        "      x = (i*2)*'X' + 'X'\n",
        "      print(space + x)\n",
        "\n",
        "draw_pyramid(5)"
      ],
      "metadata": {
        "colab": {
          "base_uri": "https://localhost:8080/"
        },
        "id": "6K0zpIQ5SDfH",
        "outputId": "f4ae8896-c8de-4564-d295-ce9def072ec7"
      },
      "execution_count": 38,
      "outputs": [
        {
          "output_type": "stream",
          "name": "stdout",
          "text": [
            "    X\n",
            "   XXX\n",
            "  XXXXX\n",
            " XXXXXXX\n",
            "XXXXXXXXX\n"
          ]
        }
      ]
    },
    {
      "cell_type": "markdown",
      "source": [
        "Task 8. Write a Python program to check whether a given password meetsthe following\n",
        "requirements: The password must be at least eight characters long; contain at least\n",
        "one uppercase letter; contain at least one lowercase letter; contain at least one\n",
        "numeric digit; and contain at least one special symbol (i.e., @, &, ...)"
      ],
      "metadata": {
        "id": "52tXngvyTY0X"
      }
    },
    {
      "cell_type": "code",
      "source": [
        "import re\n",
        "import string\n",
        "\n",
        "def check_password(password):\n",
        "  if len(password) < 8:\n",
        "    return 'Password not pass requirements'\n",
        "  else:\n",
        "    uppercase = r'[A-Z]'\n",
        "    lowercase = r'[a-z]'\n",
        "    digit = r'[0-9]'\n",
        "    special_symbol = fr'[{string.punctuation}]'\n",
        "\n",
        "    conditions = [uppercase, lowercase, digit, special_symbol]\n",
        "    check = True\n",
        "\n",
        "    for condition in conditions:\n",
        "      if len(re.findall(condition, password)) < 1:\n",
        "        check = False\n",
        "        break\n",
        "\n",
        "    if check:\n",
        "      print('Password pass requirements')\n",
        "    else:\n",
        "      print ('Password not pass requirements')\n",
        "\n",
        "check_password('ntt@NLU123')"
      ],
      "metadata": {
        "id": "XIK6-MB9TbaV",
        "colab": {
          "base_uri": "https://localhost:8080/"
        },
        "outputId": "51e0f358-e123-4c7c-8de7-ab9a0e62eb36"
      },
      "execution_count": 40,
      "outputs": [
        {
          "output_type": "stream",
          "name": "stdout",
          "text": [
            "Password pass requirements\n"
          ]
        }
      ]
    }
  ]
}